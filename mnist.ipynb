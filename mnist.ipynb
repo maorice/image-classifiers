{
  "cells": [
    {
      "cell_type": "code",
      "execution_count": 1,
      "metadata": {
        "id": "69lZh_0Goz1o"
      },
      "outputs": [],
      "source": [
        "import numpy as np\n",
        "import pandas as pd\n",
        "import torch\n",
        "import torch.nn as nn\n",
        "from torch.utils.data import DataLoader\n",
        "import torchvision\n",
        "from torchvision import transforms\n",
        "import matplotlib.pyplot as plt\n",
        "from tqdm import tqdm"
      ]
    },
    {
      "cell_type": "code",
      "source": [
        "device = torch.device(\"cuda:0\" if torch.cuda.is_available() else \"cpu\")\n",
        "print(device)"
      ],
      "metadata": {
        "colab": {
          "base_uri": "https://localhost:8080/"
        },
        "id": "f6ljlamNgQ19",
        "outputId": "e070f1ba-f586-455f-9afa-4f504b2d43e8"
      },
      "execution_count": 2,
      "outputs": [
        {
          "output_type": "stream",
          "name": "stdout",
          "text": [
            "cuda:0\n"
          ]
        }
      ]
    },
    {
      "cell_type": "code",
      "execution_count": 3,
      "metadata": {
        "id": "T1bIhO6x7H1q",
        "colab": {
          "base_uri": "https://localhost:8080/"
        },
        "outputId": "79ab8234-58bf-414b-c735-8ef83c555e06"
      },
      "outputs": [
        {
          "output_type": "stream",
          "name": "stdout",
          "text": [
            "Downloading http://yann.lecun.com/exdb/mnist/train-images-idx3-ubyte.gz\n",
            "Failed to download (trying next):\n",
            "HTTP Error 403: Forbidden\n",
            "\n",
            "Downloading https://ossci-datasets.s3.amazonaws.com/mnist/train-images-idx3-ubyte.gz\n",
            "Downloading https://ossci-datasets.s3.amazonaws.com/mnist/train-images-idx3-ubyte.gz to ./MNIST/raw/train-images-idx3-ubyte.gz\n"
          ]
        },
        {
          "output_type": "stream",
          "name": "stderr",
          "text": [
            "100%|██████████| 9912422/9912422 [00:00<00:00, 32938352.85it/s]\n"
          ]
        },
        {
          "output_type": "stream",
          "name": "stdout",
          "text": [
            "Extracting ./MNIST/raw/train-images-idx3-ubyte.gz to ./MNIST/raw\n",
            "\n",
            "Downloading http://yann.lecun.com/exdb/mnist/train-labels-idx1-ubyte.gz\n",
            "Failed to download (trying next):\n",
            "HTTP Error 403: Forbidden\n",
            "\n",
            "Downloading https://ossci-datasets.s3.amazonaws.com/mnist/train-labels-idx1-ubyte.gz\n",
            "Downloading https://ossci-datasets.s3.amazonaws.com/mnist/train-labels-idx1-ubyte.gz to ./MNIST/raw/train-labels-idx1-ubyte.gz\n"
          ]
        },
        {
          "output_type": "stream",
          "name": "stderr",
          "text": [
            "100%|██████████| 28881/28881 [00:00<00:00, 1294572.03it/s]\n"
          ]
        },
        {
          "output_type": "stream",
          "name": "stdout",
          "text": [
            "Extracting ./MNIST/raw/train-labels-idx1-ubyte.gz to ./MNIST/raw\n",
            "\n",
            "Downloading http://yann.lecun.com/exdb/mnist/t10k-images-idx3-ubyte.gz\n",
            "Failed to download (trying next):\n",
            "HTTP Error 403: Forbidden\n",
            "\n",
            "Downloading https://ossci-datasets.s3.amazonaws.com/mnist/t10k-images-idx3-ubyte.gz\n",
            "Downloading https://ossci-datasets.s3.amazonaws.com/mnist/t10k-images-idx3-ubyte.gz to ./MNIST/raw/t10k-images-idx3-ubyte.gz\n"
          ]
        },
        {
          "output_type": "stream",
          "name": "stderr",
          "text": [
            "100%|██████████| 1648877/1648877 [00:00<00:00, 7883280.25it/s]\n"
          ]
        },
        {
          "output_type": "stream",
          "name": "stdout",
          "text": [
            "Extracting ./MNIST/raw/t10k-images-idx3-ubyte.gz to ./MNIST/raw\n",
            "\n",
            "Downloading http://yann.lecun.com/exdb/mnist/t10k-labels-idx1-ubyte.gz\n",
            "Failed to download (trying next):\n",
            "HTTP Error 403: Forbidden\n",
            "\n",
            "Downloading https://ossci-datasets.s3.amazonaws.com/mnist/t10k-labels-idx1-ubyte.gz\n",
            "Downloading https://ossci-datasets.s3.amazonaws.com/mnist/t10k-labels-idx1-ubyte.gz to ./MNIST/raw/t10k-labels-idx1-ubyte.gz\n"
          ]
        },
        {
          "output_type": "stream",
          "name": "stderr",
          "text": [
            "100%|██████████| 4542/4542 [00:00<00:00, 7450343.67it/s]\n"
          ]
        },
        {
          "output_type": "stream",
          "name": "stdout",
          "text": [
            "Extracting ./MNIST/raw/t10k-labels-idx1-ubyte.gz to ./MNIST/raw\n",
            "\n"
          ]
        }
      ],
      "source": [
        "transform = transforms.Compose([\n",
        "    transforms.ToTensor(),\n",
        "])\n",
        "\n",
        "all_train_data = torchvision.datasets.MNIST('.', train = True, download = True, transform = transform)\n",
        "test_set = torchvision.datasets.MNIST('.', train = False, download = True, transform = transform)\n",
        "train_size = int(0.9 * len(all_train_data))\n",
        "train_set, val_set = torch.utils.data.random_split(all_train_data, [train_size, len(all_train_data) - train_size])\n",
        "\n",
        "batch_size = 128\n",
        "train_dataloader = DataLoader(train_set, batch_size = batch_size, shuffle = True)\n",
        "val_dataloader = DataLoader(val_set, batch_size = batch_size, shuffle = False)\n",
        "test_dataloader = DataLoader(test_set, batch_size = batch_size, shuffle = False)"
      ]
    },
    {
      "cell_type": "code",
      "execution_count": null,
      "metadata": {
        "id": "_XUxC8Fm9Rl5"
      },
      "outputs": [],
      "source": [
        "#DATA AUG"
      ]
    },
    {
      "cell_type": "code",
      "execution_count": null,
      "metadata": {
        "colab": {
          "base_uri": "https://localhost:8080/",
          "height": 448
        },
        "id": "UCeGp9bCAb1D",
        "outputId": "45d2f49c-00b8-4c3e-ada5-e68c118e2a5a"
      },
      "outputs": [
        {
          "output_type": "stream",
          "name": "stdout",
          "text": [
            "torch.Size([1, 28, 28])\n"
          ]
        },
        {
          "output_type": "display_data",
          "data": {
            "text/plain": [
              "<Figure size 640x480 with 1 Axes>"
            ],
            "image/png": "[encoded data removed]"
          },
          "metadata": {}
        }
      ],
      "source": [
        "#sample image\n",
        "image, label = train_set[0]\n",
        "plt.imshow(image.squeeze(), cmap = 'gray')\n",
        "print(image.shape)"
      ]
    },
    {
      "cell_type": "code",
      "execution_count": null,
      "metadata": {
        "id": "jY4FLklABilS"
      },
      "outputs": [],
      "source": [
        "class MLP(nn.Module):\n",
        "    def __init__(self, num_classes):\n",
        "        super(MLP, self).__init__()\n",
        "        self.layers = nn.Sequential(\n",
        "            nn.Linear(28 * 28, 100),\n",
        "            nn.ReLU(),\n",
        "            nn.Linear(100, num_classes)\n",
        "        )\n",
        "    def forward(self, x):\n",
        "        return self.layers(torch.flatten(x, start_dim = 1))\n",
        "\n",
        "    def predict(self, x):\n",
        "        output = nn.Softmax()(self.forward(x))\n",
        "        return torch.argmax(output, dim = 1)\n",
        "\n"
      ]
    },
    {
      "cell_type": "code",
      "execution_count": null,
      "metadata": {
        "id": "qopzPAz0d_Tw",
        "colab": {
          "base_uri": "https://localhost:8080/"
        },
        "outputId": "958123ef-7c42-4c37-a142-2e6b761e5930"
      },
      "outputs": [
        {
          "output_type": "stream",
          "name": "stdout",
          "text": [
            "MLP(\n",
            "  (layers): Sequential(\n",
            "    (0): Linear(in_features=784, out_features=100, bias=True)\n",
            "    (1): ReLU()\n",
            "    (2): Linear(in_features=100, out_features=10, bias=True)\n",
            "  )\n",
            ")\n"
          ]
        }
      ],
      "source": [
        "#hyperparams and model def\n",
        "lr = 1e-4\n",
        "epochs = 10\n",
        "linear_model = MLP(10)\n",
        "linear_model = linear_model.to(device)\n",
        "optimizer = torch.optim.Adam(linear_model.parameters(), lr = lr)\n",
        "loss_fn = nn.CrossEntropyLoss()\n",
        "print(linear_model)"
      ]
    },
    {
      "cell_type": "code",
      "execution_count": null,
      "metadata": {
        "colab": {
          "base_uri": "https://localhost:8080/"
        },
        "id": "yZz9U-0sd_Tw",
        "outputId": "f3dbf581-383b-495b-97a0-47b51b51ed36"
      },
      "outputs": [
        {
          "output_type": "stream",
          "name": "stdout",
          "text": [
            "Epoch: 0, Train Loss: 1.6653767298748143, Val Loss: 1.0667739411195118\n",
            "Epoch: 1, Train Loss: 0.7999866014408274, Val Loss: 0.616283543407917\n",
            "Epoch: 2, Train Loss: 0.5387538516125973, Val Loss: 0.4679362438619137\n",
            "Epoch: 3, Train Loss: 0.4378933926329229, Val Loss: 0.39902888983488083\n",
            "Epoch: 4, Train Loss: 0.38507954091257396, Val Loss: 0.3596172605951627\n",
            "Epoch: 5, Train Loss: 0.3528723292299921, Val Loss: 0.3330141405264537\n",
            "Epoch: 6, Train Loss: 0.33042541153340543, Val Loss: 0.3149922446658214\n",
            "Epoch: 7, Train Loss: 0.3139659914218984, Val Loss: 0.300196993475159\n",
            "Epoch: 8, Train Loss: 0.30080599235414895, Val Loss: 0.28855747915804386\n",
            "Epoch: 9, Train Loss: 0.28963598552473346, Val Loss: 0.27915033139288425\n"
          ]
        }
      ],
      "source": [
        "#training\n",
        "train_loss = []\n",
        "val_loss = []\n",
        "\n",
        "for epoch in range(epochs):\n",
        "    linear_model.train()\n",
        "    epoch_train_loss = []\n",
        "    epoch_val_loss = []\n",
        "    for idx, batch in enumerate(train_dataloader):\n",
        "        optimizer.zero_grad()\n",
        "        imgs, labels = batch\n",
        "        imgs, labels = imgs.to(device), labels.to(device)\n",
        "        outputs = linear_model.forward(imgs)\n",
        "        loss = loss_fn(outputs, labels)\n",
        "        loss.backward()\n",
        "        optimizer.step()\n",
        "        predictions = torch.argmax(outputs, dim = 1)\n",
        "        epoch_train_loss.append(loss.item())\n",
        "    train_loss.append(sum(epoch_train_loss) / len(epoch_train_loss))\n",
        "\n",
        "    linear_model.eval()\n",
        "    for idx, batch in enumerate(val_dataloader):\n",
        "        with torch.no_grad():\n",
        "            imgs, labels = batch\n",
        "            imgs, labels = imgs.to(device), labels.to(device)\n",
        "            outputs = linear_model.forward(imgs)\n",
        "            loss = loss_fn(outputs, labels)\n",
        "            predictions = torch.argmax(outputs, dim = 1)\n",
        "            epoch_val_loss.append(loss.item())\n",
        "    val_loss.append(sum(epoch_val_loss) / len(epoch_val_loss))\n",
        "    print(f\"Epoch: {epoch}, Train Loss: {train_loss[len(train_loss) - 1]}, Val Loss: {val_loss[len(val_loss) - 1]}\")"
      ]
    },
    {
      "cell_type": "code",
      "source": [
        "#plots\n",
        "plt.plot(train_loss, label='Training loss')\n",
        "plt.plot(val_loss, label='Validation loss')\n",
        "plt.legend()\n",
        "plt.title('Loss per Epoch')\n",
        "plt.xlabel('Epoch')\n",
        "plt.ylabel('Loss')\n",
        "plt.ylim([0, 1.7])\n",
        "plt.show()"
      ],
      "metadata": {
        "colab": {
          "base_uri": "https://localhost:8080/",
          "height": 472
        },
        "id": "3n84lH2WpbHd",
        "outputId": "24add0d1-f9c3-414b-ed42-202842b3e326"
      },
      "execution_count": null,
      "outputs": [
        {
          "output_type": "display_data",
          "data": {
            "text/plain": [
              "<Figure size 640x480 with 1 Axes>"
            ],
            "image/png": "[encoded data removed]"
          },
          "metadata": {}
        }
      ]
    },
    {
      "cell_type": "code",
      "source": [
        "#testing\n",
        "accuracies = []\n",
        "with torch.no_grad():\n",
        "  for idx, batch in enumerate(test_dataloader):\n",
        "    imgs, labels = batch\n",
        "    imgs, labels = imgs.to(device), labels.to(device)\n",
        "    outputs = linear_model.forward(imgs)\n",
        "    predictions = torch.argmax(outputs, dim = 1)\n",
        "    accuracies.append((predictions == labels).sum() / batch_size)\n",
        "print((sum(accuracies) / len(accuracies)).item())"
      ],
      "metadata": {
        "colab": {
          "base_uri": "https://localhost:8080/"
        },
        "id": "a9Er8WTKocIa",
        "outputId": "9d3f31f0-ac31-44c6-8c7a-9b8f5d9ceac1"
      },
      "execution_count": null,
      "outputs": [
        {
          "output_type": "stream",
          "name": "stdout",
          "text": [
            "0.900195300579071\n"
          ]
        }
      ]
    },
    {
      "cell_type": "code",
      "source": [
        "image, label = test_set[15]\n",
        "linear_model = linear_model.to('cpu')\n",
        "plt.imshow(image.squeeze(), cmap = 'gray')\n",
        "print(\"Prediction:\", linear_model.predict(image).item(), \"Actual Class:\", label)"
      ],
      "metadata": {
        "colab": {
          "base_uri": "https://localhost:8080/",
          "height": 504
        },
        "id": "wgofHyo5P-9w",
        "outputId": "c5b4a8a8-173c-4fe5-9eb8-9f37acc5bc37"
      },
      "execution_count": 52,
      "outputs": [
        {
          "output_type": "stream",
          "name": "stdout",
          "text": [
            "Prediction: 5 Actual Class: 5\n"
          ]
        },
        {
          "output_type": "stream",
          "name": "stderr",
          "text": [
            "/usr/local/lib/python3.10/dist-packages/torch/nn/modules/module.py:1532: UserWarning: Implicit dimension choice for softmax has been deprecated. Change the call to include dim=X as an argument.\n",
            "  return self._call_impl(*args, **kwargs)\n"
          ]
        },
        {
          "output_type": "display_data",
          "data": {
            "text/plain": [
              "<Figure size 640x480 with 1 Axes>"
            ],
            "image/png": "[encoded data removed]"
          },
          "metadata": {}
        }
      ]
    },
    {
      "cell_type": "code",
      "source": [
        "class CNN(nn.Module):\n",
        "  def __init__(self):\n",
        "    super(CNN, self).__init__()\n",
        "    self.conv1 = nn.Sequential(\n",
        "        nn.Conv2d(1, 8, 3, 1, 1),\n",
        "        nn.ReLU(),\n",
        "        nn.MaxPool2d(2, 2)\n",
        "    )\n",
        "    self.conv2 = nn.Sequential(\n",
        "        nn.Conv2d(8, 16, 2, 1, 1),\n",
        "        nn.ReLU(),\n",
        "        nn.MaxPool2d(2, 2)\n",
        "    )\n",
        "    self.conv3 = nn.Sequential(\n",
        "        nn.Conv2d(16, 16, 2, 1, 1),\n",
        "        nn.ReLU(),\n",
        "        nn.MaxPool2d(2, 2)\n",
        "    )\n",
        "    self.fc = nn.Sequential(\n",
        "        nn.Linear(4 * 4 * 16, 100),\n",
        "        nn.ReLU(),\n",
        "        nn.Linear(100, 10)\n",
        "    )\n",
        "\n",
        "  def forward(self, x):\n",
        "    x = self.conv1(x)\n",
        "    x = self.conv2(x)\n",
        "    x = self.conv3(x)\n",
        "    x = torch.flatten(x, start_dim = 1)\n",
        "    return self.fc(x)\n",
        "  def predict(self, x):\n",
        "    x = self.conv1(x)\n",
        "    x = self.conv2(x)\n",
        "    x = self.conv3(x)\n",
        "    x = torch.flatten(x, start_dim = 1)\n",
        "    return self.fc(x)"
      ],
      "metadata": {
        "id": "nsEw2kLDyn0h"
      },
      "execution_count": 4,
      "outputs": []
    },
    {
      "cell_type": "code",
      "source": [
        "#hyperparams and model def\n",
        "lr = 1e-4\n",
        "epochs = 50\n",
        "conv_model = CNN()\n",
        "conv_model = conv_model.to(device)\n",
        "optimizer = torch.optim.Adam(conv_model.parameters(), lr = lr)\n",
        "loss_fn = nn.CrossEntropyLoss()"
      ],
      "metadata": {
        "id": "FG2k_JWqmxbz"
      },
      "execution_count": 5,
      "outputs": []
    },
    {
      "cell_type": "code",
      "source": [
        "#training\n",
        "train_loss = []\n",
        "val_loss = []\n",
        "\n",
        "for epoch in range(epochs):\n",
        "    conv_model.train()\n",
        "    epoch_train_loss = []\n",
        "    epoch_val_loss = []\n",
        "    for idx, batch in enumerate(train_dataloader):\n",
        "        optimizer.zero_grad()\n",
        "        imgs, labels = batch\n",
        "        imgs, labels = imgs.to(device), labels.to(device)\n",
        "        outputs = conv_model.forward(imgs)\n",
        "        loss = loss_fn(outputs, labels)\n",
        "        loss.backward()\n",
        "        optimizer.step()\n",
        "        predictions = torch.argmax(outputs, dim = 1)\n",
        "        epoch_train_loss.append(loss.item())\n",
        "    train_loss.append(sum(epoch_train_loss) / len(epoch_train_loss))\n",
        "\n",
        "    conv_model.eval()\n",
        "    for idx, batch in enumerate(val_dataloader):\n",
        "        with torch.no_grad():\n",
        "            imgs, labels = batch\n",
        "            imgs, labels = imgs.to(device), labels.to(device)\n",
        "            outputs = conv_model.forward(imgs)\n",
        "            loss = loss_fn(outputs, labels)\n",
        "            predictions = torch.argmax(outputs, dim = 1)\n",
        "            epoch_val_loss.append(loss.item())\n",
        "    val_loss.append(sum(epoch_val_loss) / len(epoch_val_loss))\n",
        "    print(f\"Epoch: {epoch}, Train Loss: {train_loss[len(train_loss) - 1]}, Val Loss: {val_loss[len(val_loss) - 1]}\")"
      ],
      "metadata": {
        "colab": {
          "base_uri": "https://localhost:8080/"
        },
        "id": "8zRTi1Jim65p",
        "outputId": "d0707347-22f0-4ba9-e7f9-e69413ffcaca"
      },
      "execution_count": 6,
      "outputs": [
        {
          "output_type": "stream",
          "name": "stderr",
          "text": [
            "/usr/local/lib/python3.10/dist-packages/torch/autograd/graph.py:744: UserWarning: Plan failed with a cudnnException: CUDNN_BACKEND_EXECUTION_PLAN_DESCRIPTOR: cudnnFinalize Descriptor Failed cudnn_status: CUDNN_STATUS_NOT_SUPPORTED (Triggered internally at ../aten/src/ATen/native/cudnn/Conv_v8.cpp:919.)\n",
            "  return Variable._execution_engine.run_backward(  # Calls into the C++ engine to run the backward pass\n"
          ]
        },
        {
          "output_type": "stream",
          "name": "stdout",
          "text": [
            "Epoch: 0, Train Loss: 1.8561075574131374, Val Loss: 0.9503521843159453\n",
            "Epoch: 1, Train Loss: 0.7052423497088147, Val Loss: 0.5718308687210083\n",
            "Epoch: 2, Train Loss: 0.5009350332462392, Val Loss: 0.44673529711175475\n",
            "Epoch: 3, Train Loss: 0.4067840878785504, Val Loss: 0.382252388812126\n",
            "Epoch: 4, Train Loss: 0.34939474329987974, Val Loss: 0.32995075780026456\n",
            "Epoch: 5, Train Loss: 0.3084705464224115, Val Loss: 0.29249114971211615\n",
            "Epoch: 6, Train Loss: 0.2760300068846811, Val Loss: 0.2664569800204419\n",
            "Epoch: 7, Train Loss: 0.2506526190063682, Val Loss: 0.2436788560862237\n",
            "Epoch: 8, Train Loss: 0.228803741264541, Val Loss: 0.22437179469047708\n",
            "Epoch: 9, Train Loss: 0.21177445701654488, Val Loss: 0.20893541834455856\n",
            "Epoch: 10, Train Loss: 0.1942361042044739, Val Loss: 0.19172480369501926\n",
            "Epoch: 11, Train Loss: 0.18073191405472597, Val Loss: 0.18231852780631247\n",
            "Epoch: 12, Train Loss: 0.1684156438044462, Val Loss: 0.16943476032069388\n",
            "Epoch: 13, Train Loss: 0.15833554832679683, Val Loss: 0.15872495256839914\n",
            "Epoch: 14, Train Loss: 0.14824388460454782, Val Loss: 0.14782600516968586\n",
            "Epoch: 15, Train Loss: 0.13981145065966374, Val Loss: 0.14475127927800444\n",
            "Epoch: 16, Train Loss: 0.13215539208944374, Val Loss: 0.1437976487139438\n",
            "Epoch: 17, Train Loss: 0.1258725194851934, Val Loss: 0.12994293892320166\n",
            "Epoch: 18, Train Loss: 0.12019593448276628, Val Loss: 0.12723185660991262\n",
            "Epoch: 19, Train Loss: 0.11570594704740844, Val Loss: 0.12033196174083872\n",
            "Epoch: 20, Train Loss: 0.11082721312675996, Val Loss: 0.11755327032284534\n",
            "Epoch: 21, Train Loss: 0.1072156650777818, Val Loss: 0.1143636424490746\n",
            "Epoch: 22, Train Loss: 0.10271638792926242, Val Loss: 0.114538783167905\n",
            "Epoch: 23, Train Loss: 0.10017238090353273, Val Loss: 0.10616235973987173\n",
            "Epoch: 24, Train Loss: 0.09602713256067998, Val Loss: 0.10761252727280272\n",
            "Epoch: 25, Train Loss: 0.09369703073725458, Val Loss: 0.09988984790571193\n",
            "Epoch: 26, Train Loss: 0.09066231909397796, Val Loss: 0.09681787207088571\n",
            "Epoch: 27, Train Loss: 0.08825934320352795, Val Loss: 0.09494773243018921\n",
            "Epoch: 28, Train Loss: 0.08543931380779399, Val Loss: 0.09686701245447422\n",
            "Epoch: 29, Train Loss: 0.08340630783165377, Val Loss: 0.09157416977463885\n",
            "Epoch: 30, Train Loss: 0.08176492689777677, Val Loss: 0.09042179453721706\n",
            "Epoch: 31, Train Loss: 0.07894680914755964, Val Loss: 0.08834512008631483\n",
            "Epoch: 32, Train Loss: 0.07837891628771526, Val Loss: 0.0893014040874674\n",
            "Epoch: 33, Train Loss: 0.0758632376604665, Val Loss: 0.08893955110552464\n",
            "Epoch: 34, Train Loss: 0.07434983706869785, Val Loss: 0.08676292806705262\n",
            "Epoch: 35, Train Loss: 0.07256893010289184, Val Loss: 0.08295299810297946\n",
            "Epoch: 36, Train Loss: 0.07077209783113292, Val Loss: 0.08237573020952813\n",
            "Epoch: 37, Train Loss: 0.06948505038995807, Val Loss: 0.08228447403203934\n",
            "Epoch: 38, Train Loss: 0.06754393436641419, Val Loss: 0.08141514357734234\n",
            "Epoch: 39, Train Loss: 0.06707570583987717, Val Loss: 0.07802169742260842\n",
            "Epoch: 40, Train Loss: 0.06561282973612936, Val Loss: 0.07804426003960853\n",
            "Epoch: 41, Train Loss: 0.06423996513824186, Val Loss: 0.07774285500512478\n",
            "Epoch: 42, Train Loss: 0.06288201396101953, Val Loss: 0.07621195107856964\n",
            "Epoch: 43, Train Loss: 0.06198844551307401, Val Loss: 0.07395128378684217\n",
            "Epoch: 44, Train Loss: 0.061457245853416165, Val Loss: 0.07452928421503686\n",
            "Epoch: 45, Train Loss: 0.05942881059219346, Val Loss: 0.07460981401357245\n",
            "Epoch: 46, Train Loss: 0.05857520664366783, Val Loss: 0.0741271723378846\n",
            "Epoch: 47, Train Loss: 0.0572623183500569, Val Loss: 0.070022615306872\n",
            "Epoch: 48, Train Loss: 0.05733838300242738, Val Loss: 0.0714043223081117\n",
            "Epoch: 49, Train Loss: 0.05606675081471449, Val Loss: 0.06993738189339638\n"
          ]
        }
      ]
    },
    {
      "cell_type": "code",
      "source": [
        "#plots\n",
        "plt.plot(train_loss, label='Training loss')\n",
        "plt.plot(val_loss, label='Validation loss')\n",
        "plt.legend()\n",
        "plt.title('Loss per Epoch')\n",
        "plt.xlabel('Epoch')\n",
        "plt.ylabel('Loss')\n",
        "plt.ylim([0, 1.7])\n",
        "plt.show()"
      ],
      "metadata": {
        "colab": {
          "base_uri": "https://localhost:8080/",
          "height": 472
        },
        "id": "-Ta5kZE_nO-p",
        "outputId": "e14a7793-f197-475d-dd9c-89d2941e673d"
      },
      "execution_count": 7,
      "outputs": [
        {
          "output_type": "display_data",
          "data": {
            "text/plain": [
              "<Figure size 640x480 with 1 Axes>"
            ],
            "image/png": "[encoded data removed]"
          },
          "metadata": {}
        }
      ]
    },
    {
      "cell_type": "code",
      "source": [
        "#testing\n",
        "accuracies = []\n",
        "with torch.no_grad():\n",
        "  for idx, batch in enumerate(test_dataloader):\n",
        "    imgs, labels = batch\n",
        "    imgs, labels = imgs.to(device), labels.to(device)\n",
        "    outputs = conv_model.forward(imgs)\n",
        "    predictions = torch.argmax(outputs, dim = 1)\n",
        "    accuracies.append((predictions == labels).sum() / batch_size)\n",
        "print((sum(accuracies) / len(accuracies)).item())"
      ],
      "metadata": {
        "colab": {
          "base_uri": "https://localhost:8080/"
        },
        "id": "dGuv-C1Usl0K",
        "outputId": "09937b85-6726-4970-ebeb-27a63437bbb2"
      },
      "execution_count": 8,
      "outputs": [
        {
          "output_type": "stream",
          "name": "stdout",
          "text": [
            "0.9701344966888428\n"
          ]
        },
        {
          "output_type": "stream",
          "name": "stderr",
          "text": [
            "/usr/local/lib/python3.10/dist-packages/torch/nn/modules/conv.py:456: UserWarning: Plan failed with a cudnnException: CUDNN_BACKEND_EXECUTION_PLAN_DESCRIPTOR: cudnnFinalize Descriptor Failed cudnn_status: CUDNN_STATUS_NOT_SUPPORTED (Triggered internally at ../aten/src/ATen/native/cudnn/Conv_v8.cpp:919.)\n",
            "  return F.conv2d(input, weight, bias, self.stride,\n"
          ]
        }
      ]
    }
  ],
  "metadata": {
    "colab": {
      "provenance": [],
      "gpuType": "T4"
    },
    "kernelspec": {
      "display_name": "Python 3",
      "name": "python3"
    },
    "language_info": {
      "codemirror_mode": {
        "name": "ipython",
        "version": 3
      },
      "file_extension": ".py",
      "mimetype": "text/x-python",
      "name": "python",
      "nbconvert_exporter": "python",
      "pygments_lexer": "ipython3",
      "version": "3.11.5"
    },
    "accelerator": "GPU"
  },
  "nbformat": 4,
  "nbformat_minor": 0
}